{
 "cells": [
  {
   "cell_type": "code",
   "execution_count": 2,
   "metadata": {},
   "outputs": [
    {
     "data": {
      "text/plain": [
       "['A', 'B', 'C', 'D', 'E']"
      ]
     },
     "execution_count": 2,
     "metadata": {},
     "output_type": "execute_result"
    }
   ],
   "source": [
    "import numpy as np\n",
    "itemset={\n",
    "    \"A\": np.array([1,1,0,1,1]),\n",
    "    \"B\": np.array([1,1,0,1,0]),\n",
    "    \"C\": np.array([1,0,1,0,1]),\n",
    "    \"D\": np.array([1,0,0,1,1]),\n",
    "    \"E\": np.array([1,0,1,1,0])\n",
    "}\n",
    "\n",
    "\n",
    "#On recupere les candidates :\n",
    "candidates = list(itemset.keys())\n",
    "#candidates = [\"A\",\"B\",\"C\",\"D\",\"E\"]\n",
    "candidates\n",
    "\n",
    "#list(itemset.keys())[0]\n"
   ]
  },
  {
   "attachments": {},
   "cell_type": "markdown",
   "metadata": {},
   "source": [
    "Les fonctions utiles :"
   ]
  },
  {
   "cell_type": "code",
   "execution_count": 25,
   "metadata": {},
   "outputs": [],
   "source": [
    "def isSubstring(x,y):\n",
    "    return all([char in y for char in x])\n",
    "    \n",
    "\n",
    "def isSubstring_ferm(x,fermeture):\n",
    "    for val in fermeture.values():\n",
    "        if isSubstring(x,val):\n",
    "            return True\n",
    "    return False\n",
    "\n",
    "def new_candidates(candidates):\n",
    "    temp=[]\n",
    "    taille= len(candidates[0])-1\n",
    "    for c1 in candidates :\n",
    "        for c2 in candidates :\n",
    "            if c1!=c2 :\n",
    "                if c1[:taille] == c2[:taille] :\n",
    "                    temp.append(\"\".join(sorted(set(c1+c2))))\n",
    "    temp = sorted(list(set(temp)))\n",
    "    return temp"
   ]
  },
  {
   "cell_type": "code",
   "execution_count": 26,
   "metadata": {},
   "outputs": [],
   "source": [
    "def sup(item,itemset):\n",
    "    temp=np.zeros((itemset[list(itemset.keys())[0]].size,), dtype=int)\n",
    "    for char in item :\n",
    "        temp += itemset[char]\n",
    "        #print(temp)\n",
    "    sup = np.count_nonzero(temp == (len(item)))/itemset[list(itemset.keys())[0]].size\n",
    "    return sup\n",
    "\n",
    "def ferm(item,itemset,candidates):\n",
    "    itemset2= itemset\n",
    "    fermeture = \"\"\n",
    "    for c in candidates :\n",
    "        #print(c)\n",
    "        if len(c)>= 1 : #on verifie que la la longeur de l'item candidat est > 1\n",
    "            # if c not in itemset.keys() : # on verifie que l'item candidat n'est pas dans notre itemset #!!!A enlever\n",
    "                for i in range(1,len(c)) :\n",
    "                    #print(c[i])\n",
    "                    #print(c[i-1])\n",
    "                    temp= np.bitwise_and(itemset2[c[i-1]],itemset2[c[i]]) # ET logique\n",
    "                    #print(temp)\n",
    "                    itemset2[c]= temp\n",
    "                #print(temp)\n",
    "        # print(\"Itemset de \"+str(c)+\" :\"+str(itemset[c]))\n",
    "        # print(\"Itemset de \"+str(item)+\" :\"+str(itemset[item]))\n",
    "        # print(\"Ou logique : \" +str(np.bitwise_or(itemset[c],itemset[item])))\n",
    "        # print(\"-------------------------------\")\n",
    "        if (np.array_equal(np.bitwise_or(itemset2[c],itemset2[item]),itemset2[c])) : #ou des deux itemsets\n",
    "            fermeture+=c\n",
    "            pass\n",
    "    return ''.join(sorted(list(set(fermeture))))"
   ]
  },
  {
   "cell_type": "code",
   "execution_count": 27,
   "metadata": {},
   "outputs": [],
   "source": [
    "def close(itemset,minsup,candidats) :\n",
    "    candidates = candidats\n",
    "    fermetures = {}\n",
    "    it=1\n",
    "    while candidates != [] :\n",
    "        fermetures = {}\n",
    "        print(\"iteration : \"+str(it))\n",
    "        print(\"----------------\")\n",
    "        it+=1\n",
    "        print(\"Itemset|Sup\")\n",
    "        print(\"----------------\")\n",
    "        \n",
    "        candidates2=[]\n",
    "        #On supprime les candidates li m3endhoumch\n",
    "        i = 0\n",
    "        n = len(candidates)\n",
    "        while i < n :\n",
    "            c = candidates[i]\n",
    "            #print(c)\n",
    "            print(c+\"|\"+str(sup(c,itemset)))\n",
    "            if sup(c,itemset) < minsup :\n",
    "                candidates2.append(c)\n",
    "                del(candidates[candidates.index(c)])\n",
    "                n-=1\n",
    "            else :\n",
    "                i+=1\n",
    "\n",
    "        print(\"Itemset|Ferm\")\n",
    "        print(\"----------------\")     \n",
    "        # for c in candidates :\n",
    "        #     if sup(c,itemset) < minsup :\n",
    "        #         #candidates.pop(c)\n",
    "        #         del(candidates[candidates.index(c)])\n",
    "        #On calcule les fermetures du k-itemset et on l'affiche\n",
    "        for c in candidates :\n",
    "            fermetures[c]=ferm(c,itemset,candidates)\n",
    "            print(c+\"|\"+str(fermetures[c]))\n",
    "        print('\\n')\n",
    "        \n",
    "        print(candidates)\n",
    "        # print('\\n')\n",
    "        # print('----------------')\n",
    "        \n",
    "        if candidates != [] :\n",
    "            candidates = new_candidates(candidates)\n",
    "            for c in candidates :\n",
    "                if isSubstring_ferm(c,fermetures) :\n",
    "                    del(candidates[candidates.index(c)])"
   ]
  },
  {
   "cell_type": "code",
   "execution_count": 29,
   "metadata": {},
   "outputs": [
    {
     "name": "stdout",
     "output_type": "stream",
     "text": [
      "iteration : 1\n",
      "----------------\n",
      "Itemset|Sup\n",
      "----------------\n",
      "A|0.8\n",
      "B|0.6\n",
      "C|0.6\n",
      "D|0.6\n",
      "E|0.6\n",
      "Itemset|Ferm\n",
      "----------------\n",
      "A|A\n",
      "B|AB\n",
      "C|C\n",
      "D|AD\n",
      "E|E\n",
      "\n",
      "\n",
      "['A', 'B', 'C', 'D', 'E']\n",
      "iteration : 2\n",
      "----------------\n",
      "Itemset|Sup\n",
      "----------------\n",
      "AC|0.4\n",
      "AE|0.4\n",
      "BC|0.2\n",
      "BD|0.4\n",
      "BE|0.4\n",
      "CD|0.4\n",
      "CE|0.4\n",
      "DE|0.4\n",
      "Itemset|Ferm\n",
      "----------------\n",
      "AC|ACD\n",
      "AE|ABDE\n",
      "BD|ABDE\n",
      "BE|ABDE\n",
      "CD|ACD\n",
      "CE|CE\n",
      "DE|ABDE\n",
      "\n",
      "\n",
      "['AC', 'AE', 'BD', 'BE', 'CD', 'CE', 'DE']\n",
      "iteration : 3\n",
      "----------------\n",
      "Itemset|Sup\n",
      "----------------\n",
      "ACE|0.2\n",
      "CDE|0.2\n",
      "Itemset|Ferm\n",
      "----------------\n",
      "\n",
      "\n",
      "[]\n",
      "None\n"
     ]
    }
   ],
   "source": [
    "print(close(itemset,0.4,candidates))"
   ]
  }
 ],
 "metadata": {
  "kernelspec": {
   "display_name": "Python 3",
   "language": "python",
   "name": "python3"
  },
  "language_info": {
   "codemirror_mode": {
    "name": "ipython",
    "version": 3
   },
   "file_extension": ".py",
   "mimetype": "text/x-python",
   "name": "python",
   "nbconvert_exporter": "python",
   "pygments_lexer": "ipython3",
   "version": "3.9.9"
  },
  "orig_nbformat": 4,
  "vscode": {
   "interpreter": {
    "hash": "f6246b25e200e4c5124e3e61789ac81350562f0761bbcf92ad9e48654207659c"
   }
  }
 },
 "nbformat": 4,
 "nbformat_minor": 2
}
